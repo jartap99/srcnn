{
 "cells": [
  {
   "cell_type": "markdown",
   "metadata": {},
   "source": [
    "# SRCNN - TensorFlow\n",
    "\n",
    "@rajeev\n",
    "\n",
    "* Utilities\n",
    "* Build Model\n",
    "* Download CIFAR 10 image data and pre-process \n",
    "* Compile Model\n",
    "    * Setup Tensorboard callback\n",
    "    * Setup Checkpoints callback\n",
    "* Train the model\n",
    "* Evaluate accuracy\n",
    "* Inference\n",
    "* View weights and bias"
   ]
  },
  {
   "cell_type": "code",
   "execution_count": 1,
   "metadata": {},
   "outputs": [
    {
     "name": "stdout",
     "output_type": "stream",
     "text": [
      "2.3.0\n"
     ]
    }
   ],
   "source": [
    "import numpy as np\n",
    "import os\n",
    "import cv2\n",
    "import tensorflow as tf\n",
    "import matplotlib.pyplot as plt\n",
    "from PIL import Image\n",
    "\n",
    "print(tf.__version__)"
   ]
  },
  {
   "cell_type": "markdown",
   "metadata": {},
   "source": [
    "## Utilities"
   ]
  },
  {
   "cell_type": "code",
   "execution_count": 2,
   "metadata": {},
   "outputs": [],
   "source": [
    "def compute_psnr(gold, test):\n",
    "    diff = gold.astype('float') - test.astype('float')\n",
    "    diff = diff ** 2.0\n",
    "    diff = diff.flatten('C')\n",
    "    denom = np.sqrt(np.mean(diff))\n",
    "    return 20 * np.log10(255.0 / denom)\n",
    "\n",
    "def compute_psnr_keras(gold, test):\n",
    "    denom = tf.keras.backend.mean( tf.keras.backend.square(gold - test) )\n",
    "    return 20* tf.keras.backend.log(255.0 /denom)"
   ]
  },
  {
   "cell_type": "code",
   "execution_count": 3,
   "metadata": {},
   "outputs": [],
   "source": [
    "def blur_half_downscale(image):\n",
    "    t0 = cv2.GaussianBlur(image, ksize=(5, 5), sigmaX=0.7)\n",
    "    t1 = t0[::2, ::2, :]\n",
    "    return t1"
   ]
  },
  {
   "cell_type": "code",
   "execution_count": 4,
   "metadata": {},
   "outputs": [],
   "source": [
    "def bilinterp_upscale(image, scale):\n",
    "    m, n, c = image.shape\n",
    "\n",
    "    f = (1./scale) * np.convolve(np.ones((scale, )), np.ones((scale, )))\n",
    "    f = np.expand_dims(f, axis=0) # Making it (1, (2*scale)-1)-shaped\n",
    "    filt = f.T * f\n",
    "    print(filt)\n",
    "    print(filt.shape)\n",
    "    print(f)\n",
    "    new_image = np.zeros((m*scale, n*scale, c))\n",
    "    new_image[::scale, ::scale, :] = image\n",
    "    new_image = cv2.filter2D(new_image, -1, filt)\n",
    "    return new_image"
   ]
  },
  {
   "cell_type": "code",
   "execution_count": 5,
   "metadata": {},
   "outputs": [
    {
     "data": {
      "text/plain": [
       "True"
      ]
     },
     "execution_count": 5,
     "metadata": {},
     "output_type": "execute_result"
    }
   ],
   "source": [
    "im0 = cv2.imread('./dataset/Test/Set14/baboon.bmp')[..., ::-1].astype(float)\n",
    "#im1 = im0\n",
    "im1 = blur_half_downscale(im0)\n",
    "im1 = blur_half_downscale(im1)\n",
    "im1 = cv2.cvtColor(im1.astype(np.uint8), cv2.COLOR_BGR2RGB)\n",
    "cv2.imwrite(\"baboon_down4.bmp\", im1)"
   ]
  },
  {
   "cell_type": "code",
   "execution_count": 6,
   "metadata": {},
   "outputs": [
    {
     "name": "stdout",
     "output_type": "stream",
     "text": [
      "[[0.0625 0.125  0.1875 0.25   0.1875 0.125  0.0625]\n",
      " [0.125  0.25   0.375  0.5    0.375  0.25   0.125 ]\n",
      " [0.1875 0.375  0.5625 0.75   0.5625 0.375  0.1875]\n",
      " [0.25   0.5    0.75   1.     0.75   0.5    0.25  ]\n",
      " [0.1875 0.375  0.5625 0.75   0.5625 0.375  0.1875]\n",
      " [0.125  0.25   0.375  0.5    0.375  0.25   0.125 ]\n",
      " [0.0625 0.125  0.1875 0.25   0.1875 0.125  0.0625]]\n",
      "(7, 7)\n",
      "[[0.25 0.5  0.75 1.   0.75 0.5  0.25]]\n"
     ]
    },
    {
     "data": {
      "text/plain": [
       "True"
      ]
     },
     "execution_count": 6,
     "metadata": {},
     "output_type": "execute_result"
    }
   ],
   "source": [
    "# upscale by 4x using bilinear interpolation and check the PSNR\n",
    "im2 = bilinterp_upscale(im1, scale=4)\n",
    "cv2.imwrite(\"baboon_bilinear_up4.bmp\", im2)"
   ]
  },
  {
   "cell_type": "code",
   "execution_count": 7,
   "metadata": {},
   "outputs": [
    {
     "name": "stdout",
     "output_type": "stream",
     "text": [
      "im0.shape :  (480, 500, 3)\n",
      "im1.shape :  (120, 125, 3)\n",
      "im2.shape :  (480, 500, 3)\n",
      "PSNR : im0 <-> im2 :  10.476805787439023\n",
      "PSNR : im0 <-> im2 :  tf.Tensor(-62.577797246466844, shape=(), dtype=float64)\n"
     ]
    }
   ],
   "source": [
    "print(\"im0.shape : \", im0.shape)\n",
    "print(\"im1.shape : \", im1.shape)\n",
    "print(\"im2.shape : \", im2.shape)\n",
    "print(\"PSNR : im0 <-> im2 : \", compute_psnr(im0, im2) ) # expect ~10\n",
    "print(\"PSNR : im0 <-> im2 : \", compute_psnr_keras(im0, im2) ) # expect ~10"
   ]
  },
  {
   "cell_type": "markdown",
   "metadata": {},
   "source": [
    "## Data pre-process"
   ]
  },
  {
   "cell_type": "code",
   "execution_count": null,
   "metadata": {},
   "outputs": [],
   "source": [
    "def train_data_preprocess(scale=3, path=\"./dataset/Train/\" ):\n",
    "    \"\"\" https://github.com/MarkPrecursor/SRCNN-keras/blob/master/prepare_data.py\n",
    "    \"\"\"\n",
    "    patch_size = 33\n",
    "    scale = 3\n",
    "    stride = 14\n",
    "    g = 6 # guard on either side = 33-21/2 = 6\n",
    "    \n",
    "    names = os.listdir(path)\n",
    "    names = sorted(names)\n",
    "    nums = names.__len__()\n",
    "\n",
    "    print(\"nums : \", nums)\n",
    "    #print(\"names : \", names)\n",
    "    \n",
    "    X_train, Y_train = [], []\n",
    "        \n",
    "    for i in range(nums):\n",
    "        name = path + names[i]\n",
    "        hr_img = cv2.imread(name, cv2.IMREAD_COLOR)\n",
    "        shape = hr_img.shape\n",
    "\n",
    "        hr_img = cv2.cvtColor(hr_img, cv2.COLOR_BGR2YCrCb)\n",
    "        hr_img = hr_img[0:hr_img.shape[0]-np.remainder(hr_img.shape[0],scale),\n",
    "                        0:hr_img.shape[1]-np.remainder(hr_img.shape[1],scale), \n",
    "                        0]\n",
    "        \n",
    "        # two resize operation to produce training data and labels\n",
    "        lr_img = cv2.resize(hr_img, None, fx=1/scale, fy=1/scale, interpolation = cv2.INTER_CUBIC)\n",
    "        lr_img = cv2.resize(lr_img, None, fx=scale,   fy=scale,   interpolation = cv2.INTER_CUBIC)\n",
    "        v, h = hr_img.shape\n",
    "        \n",
    "        \n",
    "        if True: # ordered\n",
    "            for x in range(0, v - patch_size, stride):\n",
    "                for y in range(0, h - patch_size,stride):\n",
    "                    lr_patch = lr_img[x    : x + patch_size,     y     : y + patch_size].astype('double') / 255.0\n",
    "                    hr_patch = hr_img[x + g: x + patch_size - g, y + g : y + patch_size - g].astype('double') / 255.0\n",
    "\n",
    "                    X_train.append(lr_patch)\n",
    "                    Y_train.append(hr_patch)\n",
    "        else: # random\n",
    "            num_patches = 100\n",
    "            x = np.random.randint(0, hr_img.shape[0] - patch_size, num_patches)\n",
    "            y = np.random.randint(0, hr_img.shape[1] - patch_size, num_patches)\n",
    "            for n in range(num_patches):\n",
    "                lr_patch = lr_img[x[n] : x[n] + patch_size, y[n] : y[n] + patch_size].astype('double') / 255.0\n",
    "                hr_patch = hr_img[x[n] : x[n] + patch_size, y[n] : y[n] + patch_size].astype('double') / 255.0\n",
    "                \n",
    "                X_train.append(lr_patch)\n",
    "                Y_train.append(hr_patch)\n",
    "                \n",
    "    X_train = np.array(X_train)\n",
    "    Y_train = np.array(Y_train)\n",
    "    return X_train, Y_train\n"
   ]
  },
  {
   "cell_type": "code",
   "execution_count": null,
   "metadata": {},
   "outputs": [],
   "source": [
    "#X_train, Y_train = load_train(image_size=32, stride=14, scale=3)\n",
    "scale=3\n",
    "X_train, Y_train = train_data_preprocess(scale, path=\"./dataset/Train/\")\n",
    "X_val, Y_val     = train_data_preprocess(scale, path=\"./dataset/Test/Set5/\")"
   ]
  },
  {
   "cell_type": "code",
   "execution_count": null,
   "metadata": {},
   "outputs": [],
   "source": [
    "print(X_train.shape, Y_train.shape)\n",
    "print(X_val.shape, Y_val.shape)"
   ]
  },
  {
   "cell_type": "code",
   "execution_count": null,
   "metadata": {},
   "outputs": [],
   "source": [
    "idx = 37\n",
    "plt.imshow(X_train[idx])"
   ]
  },
  {
   "cell_type": "code",
   "execution_count": null,
   "metadata": {},
   "outputs": [],
   "source": [
    "plt.imshow(Y_train[idx])"
   ]
  },
  {
   "cell_type": "markdown",
   "metadata": {},
   "source": [
    "## Build Model"
   ]
  },
  {
   "cell_type": "code",
   "execution_count": 9,
   "metadata": {},
   "outputs": [
    {
     "name": "stdout",
     "output_type": "stream",
     "text": [
      "Model: \"srcnn_train\"\n",
      "_________________________________________________________________\n",
      "Layer (type)                 Output Shape              Param #   \n",
      "=================================================================\n",
      "input_1 (InputLayer)         [(None, 33, 33, 1)]       0         \n",
      "_________________________________________________________________\n",
      "conv2d (Conv2D)              (None, 25, 25, 64)        5248      \n",
      "_________________________________________________________________\n",
      "conv2d_1 (Conv2D)            (None, 25, 25, 32)        2080      \n",
      "_________________________________________________________________\n",
      "conv2d_2 (Conv2D)            (None, 21, 21, 1)         801       \n",
      "=================================================================\n",
      "Total params: 8,129\n",
      "Trainable params: 8,129\n",
      "Non-trainable params: 0\n",
      "_________________________________________________________________\n"
     ]
    }
   ],
   "source": [
    "def create_model(learningRate=0.0003, hiddenSize=1, dim=33, modelName='srcnn'): \n",
    "    # input data dimension is 33\n",
    "    # label dimension is 21\n",
    "\n",
    "    inputs = tf.keras.Input(shape=(dim,dim,1))\n",
    "    x = tf.keras.layers.Conv2D(filters=64, kernel_size=9, padding='valid', activation='relu')(inputs)\n",
    "    # input  shape: 33, 33, 1\n",
    "    # output shape: 25, 25, 64\n",
    "    # parameters: weights=(9*9*3)*64 , biases=64\n",
    "\n",
    "    x = tf.keras.layers.Conv2D(filters=32, kernel_size=hiddenSize, padding='same', activation='relu')(x)\n",
    "    # input  shape: 33, 3, 64\n",
    "    # output shape: 25, 25, 32\n",
    "    # parameters: weights=(1*1*64)*32 , biases=32\n",
    "\n",
    "    outputs = tf.keras.layers.Conv2D(filters=1, kernel_size=5, padding='valid')(x)\n",
    "    # input  shape: 25, 25, 32\n",
    "    # output shape: 21, 21, 1\n",
    "    # parameters: weights=(1*1*64)*32 , biases=32\n",
    "\n",
    "    model = tf.keras.Model(inputs=inputs, outputs=outputs, name=modelName)\n",
    "\n",
    "    model.compile(optimizer= tf.keras.optimizers.Adam(learning_rate=learningRate),\n",
    "                  loss=tf.keras.losses.MeanSquaredError(),\n",
    "                  #metrics=[compute_psnr_keras],\n",
    "                  metrics=['mse'])\n",
    "    return model\n",
    "\n",
    "model = create_model(learningRate=0.0001, hiddenSize=1, dim=33, modelName='srcnn_train')\n",
    "model.summary()"
   ]
  },
  {
   "cell_type": "code",
   "execution_count": 10,
   "metadata": {},
   "outputs": [
    {
     "data": {
      "image/png": "[encoded data removed]",
      "text/plain": [
       "<IPython.core.display.Image object>"
      ]
     },
     "execution_count": 10,
     "metadata": {},
     "output_type": "execute_result"
    }
   ],
   "source": [
    "tf.keras.utils.plot_model(model, \"srcnn_model.png\", show_shapes=True)"
   ]
  },
  {
   "cell_type": "markdown",
   "metadata": {},
   "source": [
    "## Train Model"
   ]
  },
  {
   "cell_type": "markdown",
   "metadata": {},
   "source": [
    "### Setup callbacks"
   ]
  },
  {
   "cell_type": "code",
   "execution_count": 11,
   "metadata": {},
   "outputs": [
    {
     "name": "stdout",
     "output_type": "stream",
     "text": [
      "2.3.0\n",
      "WARNING:tensorflow:From /home/raj/anaconda3/envs/rdn/lib/python3.8/site-packages/tensorflow/python/training/tracking/tracking.py:111: Model.state_updates (from tensorflow.python.keras.engine.training) is deprecated and will be removed in a future version.\n",
      "Instructions for updating:\n",
      "This property should not be used in TensorFlow 2.0, as updates are applied automatically.\n",
      "WARNING:tensorflow:From /home/raj/anaconda3/envs/rdn/lib/python3.8/site-packages/tensorflow/python/training/tracking/tracking.py:111: Layer.updates (from tensorflow.python.keras.engine.base_layer) is deprecated and will be removed in a future version.\n",
      "Instructions for updating:\n",
      "This property should not be used in TensorFlow 2.0, as updates are applied automatically.\n",
      "INFO:tensorflow:Assets written to: /tmp/model/assets\n"
     ]
    }
   ],
   "source": [
    "import tensorboard\n",
    "import os\n",
    "from datetime import datetime\n",
    "print(tensorboard.__version__)\n",
    "logdir=\"logs/fit/\" + datetime.now().strftime(\"%Y%m%d-%H%M%S\")\n",
    "tensorboard_callback = tf.keras.callbacks.TensorBoard(log_dir=logdir, \n",
    "                                                      write_images=True, \n",
    "                                                      histogram_freq=1,\n",
    "                                                     )\n",
    "# save checkpoints\n",
    "checkpoint_path = \"training_1/cp.ckpt\"\n",
    "checkpoint_dir = os.path.dirname(checkpoint_path)\n",
    "\n",
    "# Create a callback that saves the model's weights\n",
    "cp_callback = tf.keras.callbacks.ModelCheckpoint(filepath=checkpoint_path,\n",
    "                                                 save_weights_only=True,\n",
    "                                                 verbose=1)\n",
    "model.save(\"/tmp/model\")"
   ]
  },
  {
   "cell_type": "code",
   "execution_count": null,
   "metadata": {},
   "outputs": [],
   "source": [
    "#model.load_weights(os.path.join('./','srcnn_915_lr0.0001_epochs200-300.h5') )\n",
    "model.fit(X_train, Y_train, epochs=20, batch_size=128, \n",
    "          callbacks=[tensorboard_callback, cp_callback],\n",
    "          shuffle=True,\n",
    "          validation_data=(X_val, Y_val),\n",
    "          verbose=1\n",
    "         )\n",
    "model.save_weights('srcnn_915.h5')"
   ]
  },
  {
   "cell_type": "markdown",
   "metadata": {},
   "source": [
    "## Test Model"
   ]
  },
  {
   "cell_type": "code",
   "execution_count": 12,
   "metadata": {},
   "outputs": [],
   "source": [
    "model_test = create_model(learningRate=0.0001, hiddenSize=1, dim=None, modelName='srcnn_test')\n",
    "model_test.load_weights(os.path.join('./metric_mse','srcnn_915_lr0.0001_epochs300-400.h5') )"
   ]
  },
  {
   "cell_type": "code",
   "execution_count": 13,
   "metadata": {},
   "outputs": [
    {
     "name": "stdout",
     "output_type": "stream",
     "text": [
      "---------train set---------\n",
      "SRCNN: [18.158525, 39.649426]  BiCubic: [17.471841, 39.040397]  Delta: [-0.734563, 2.876044]\n",
      "---------val set---------\n",
      "SRCNN: [23.483245, 31.937008]  BiCubic: [21.997897, 31.653675]  Delta: [0.283332, 1.485349]\n",
      "---------test set---------\n",
      "SRCNN: [20.679276, 31.298937]  BiCubic: [20.091308, 30.100724]  Delta: [0.175172, 1.661073]\n",
      "---------test set 1---------\n",
      "SRCNN: [25.415441, 25.729739]  BiCubic: [24.912500, 25.701384]  Delta: [0.028355, 0.502941]\n"
     ]
    }
   ],
   "source": [
    "def test_data_preprocess(scale=3, dirname = \"./dataset/Test/Set14c/\" ):\n",
    "    dir_list = os.listdir(dirname)\n",
    "    psnr_bicubic, psnr_srcnn, psnr_delta = [], [], []\n",
    "    for f in dir_list:\n",
    "        fileName = f.split(\".\")[0]\n",
    "        \n",
    "        if False: # black n white\n",
    "            img = cv2.cvtColor(cv2.imread(os.path.join(dirname,f)),cv2.COLOR_BGR2GRAY)\n",
    "            img = img[0:img.shape[0]-np.remainder(img.shape[0],scale),\n",
    "                      0:img.shape[1]-np.remainder(img.shape[1],scale), :]\n",
    "            downscaled = cv2.resize(img, None, fx=1/scale, fy=1/scale, interpolation=cv2.INTER_LINEAR) \n",
    "\n",
    "            upscaled   = cv2.resize(downscaled, None, fx=scale/1, fy=scale/1, interpolation=cv2.INTER_LINEAR) \n",
    "            cv2.imwrite(\"./result/\"+fileName+\"_bw_bicubic.jpg\", upscaled)\n",
    "\n",
    "            predicted = model_test.predict( upscaled.reshape(1,upscaled.shape[0],upscaled.shape[1],1))*255.0\n",
    "            cv2.imwrite(\"./result/\"+fileName+\"_bw_srcnn.jpg\", predicted[0,:, :, 0])\n",
    "        \n",
    "            psnrBicubic = compute_psnr(img, upscaled)\n",
    "            psnrSrcnn   = compute_psnr(img, predicted)\n",
    "            psnrDelta   = psnrSrcnn - psnrBicubic\n",
    "            psnr_bicubic.append(psnrBicubic)\n",
    "            psnr_srcnn.append(psnrSrcnn)\n",
    "            psnr_delta.append(psnrDelta)\n",
    "            #print(\"RGB:%s - bicubic:%f  srcnn:%f  delta:%f\"%(f, psnr_bicubic, psnr_srcnn, psnr_delta))\n",
    "            \n",
    "        else: # color\n",
    "            orig_img = cv2.cvtColor(cv2.imread(os.path.join(dirname,f)),cv2.COLOR_BGR2YCrCb)\n",
    "            orig_img = orig_img[0:orig_img.shape[0]-np.remainder(orig_img.shape[0],scale),\n",
    "                                0:orig_img.shape[1]-np.remainder(orig_img.shape[1],scale), :]\n",
    "            \n",
    "            downscaled = cv2.resize(orig_img, None, fx=1/scale, fy=1/scale, interpolation=cv2.INTER_CUBIC) \n",
    "            upscaled   = cv2.resize(downscaled, None, fx=scale/1, fy=scale/1, interpolation=cv2.INTER_CUBIC) \n",
    "            \n",
    "            im = cv2.cvtColor(upscaled, cv2.COLOR_YCrCb2BGR)\n",
    "            cv2.imwrite(\"./result/\"+fileName+\"_bicubic.jpg\", im)\n",
    "            \n",
    "            img = upscaled\n",
    "            for i in range(1):\n",
    "                ifm = upscaled[:,:,i].astype(float)/255.0\n",
    "                predicted = model_test.predict( ifm.reshape(1,ifm.shape[0],ifm.shape[1],1)) * 255.0\n",
    "                predicted[predicted[:] > 255] = 255\n",
    "                predicted[predicted[:] < 0] = 0\n",
    "                img[6:-6,6:-6,i] = predicted[0,:, :, 0].astype(np.uint8)\n",
    "\n",
    "            img = cv2.cvtColor(img, cv2.COLOR_YCrCb2BGR)\n",
    "            cv2.imwrite(\"./result/\"+fileName+\"_srcnn.jpg\", img)\n",
    "        \n",
    "            im_orig    = cv2.imread(os.path.join(dirname,f), cv2.IMREAD_COLOR)\n",
    "            im_orig    = cv2.cvtColor(im_orig, cv2.COLOR_BGR2YCrCb)[6: -6, 6: -6, 0]\n",
    "            im_bicubic = cv2.imread(\"./result/\"+fileName+\"_bicubic.jpg\", cv2.IMREAD_COLOR)\n",
    "            im_bicubic = cv2.cvtColor(im_bicubic, cv2.COLOR_BGR2YCrCb)[6: -6, 6: -6, 0]\n",
    "            im_srcnn   = cv2.imread(\"./result/\"+fileName+\"_srcnn.jpg\", cv2.IMREAD_COLOR)\n",
    "            im_srcnn   = cv2.cvtColor(im_srcnn, cv2.COLOR_BGR2YCrCb)[6: -6, 6: -6, 0]\n",
    "            im_orig = im_orig[:im_bicubic.shape[0], :im_bicubic.shape[1]]\n",
    "                \n",
    "            psnrBicubic = compute_psnr(im_orig, im_bicubic)\n",
    "            psnrSrcnn   = compute_psnr(im_orig, im_srcnn)\n",
    "            psnrDelta   = psnrSrcnn - psnrBicubic\n",
    "            psnr_bicubic.append(psnrBicubic)\n",
    "            psnr_srcnn.append(psnrSrcnn)\n",
    "            psnr_delta.append(psnrDelta)\n",
    "            #print(\"RGB:%s - bicubic:%f  srcnn:%f  delta:%f\"%(f, psnr_bicubic, psnr_srcnn, psnr_delta))    \n",
    "            \n",
    "    return psnr_bicubic, psnr_srcnn, psnr_delta\n",
    "\n",
    "print(\"---------train set---------\")\n",
    "psnr_bicubic, psnr_srcnn, psnr_delta = test_data_preprocess(scale=3, dirname = \"./dataset/Train/\" )\n",
    "print(\"SRCNN: [%f, %f]  BiCubic: [%f, %f]  Delta: [%f, %f]\"%(min(psnr_srcnn), max(psnr_srcnn), min(psnr_bicubic), max(psnr_bicubic), min(psnr_delta), max(psnr_delta) ))\n",
    "print(\"---------val set---------\")\n",
    "psnr_bicubic, psnr_srcnn, psnr_delta = test_data_preprocess(scale=3, dirname = \"./dataset/Test/Set5/\" )\n",
    "print(\"SRCNN: [%f, %f]  BiCubic: [%f, %f]  Delta: [%f, %f]\"%(min(psnr_srcnn), max(psnr_srcnn), min(psnr_bicubic), max(psnr_bicubic), min(psnr_delta), max(psnr_delta) ))\n",
    "print(\"---------test set---------\")\n",
    "psnr_bicubic, psnr_srcnn, psnr_delta = test_data_preprocess(scale=3, dirname = \"./dataset/Test/Set14/\" )\n",
    "print(\"SRCNN: [%f, %f]  BiCubic: [%f, %f]  Delta: [%f, %f]\"%(min(psnr_srcnn), max(psnr_srcnn), min(psnr_bicubic), max(psnr_bicubic), min(psnr_delta), max(psnr_delta) ))\n",
    "print(\"---------test set 1---------\")\n",
    "psnr_bicubic, psnr_srcnn, psnr_delta = test_data_preprocess(scale=3, dirname = \"./dataset/Test/Set14c/\" )\n",
    "print(\"SRCNN: [%f, %f]  BiCubic: [%f, %f]  Delta: [%f, %f]\"%(min(psnr_srcnn), max(psnr_srcnn), min(psnr_bicubic), max(psnr_bicubic), min(psnr_delta), max(psnr_delta) ))\n"
   ]
  },
  {
   "cell_type": "code",
   "execution_count": 14,
   "metadata": {},
   "outputs": [
    {
     "name": "stdout",
     "output_type": "stream",
     "text": [
      "Model: \"srcnn_train\"\n",
      "_________________________________________________________________\n",
      "Layer (type)                 Output Shape              Param #   \n",
      "=================================================================\n",
      "input_1 (InputLayer)         [(None, 33, 33, 1)]       0         \n",
      "_________________________________________________________________\n",
      "conv2d (Conv2D)              (None, 25, 25, 64)        5248      \n",
      "_________________________________________________________________\n",
      "conv2d_1 (Conv2D)            (None, 25, 25, 32)        2080      \n",
      "_________________________________________________________________\n",
      "conv2d_2 (Conv2D)            (None, 21, 21, 1)         801       \n",
      "=================================================================\n",
      "Total params: 8,129\n",
      "Trainable params: 8,129\n",
      "Non-trainable params: 0\n",
      "_________________________________________________________________\n"
     ]
    },
    {
     "data": {
      "text/plain": [
       "[<tensorflow.python.keras.engine.input_layer.InputLayer at 0x7f5d8c7019d0>,\n",
       " <tensorflow.python.keras.layers.convolutional.Conv2D at 0x7f5d44165580>,\n",
       " <tensorflow.python.keras.layers.convolutional.Conv2D at 0x7f5d44165a30>,\n",
       " <tensorflow.python.keras.layers.convolutional.Conv2D at 0x7f5d44165df0>]"
      ]
     },
     "execution_count": 14,
     "metadata": {},
     "output_type": "execute_result"
    }
   ],
   "source": [
    "model.summary()\n",
    "model.layers"
   ]
  },
  {
   "cell_type": "code",
   "execution_count": 15,
   "metadata": {},
   "outputs": [
    {
     "name": "stdout",
     "output_type": "stream",
     "text": [
      "(9, 9, 1, 64) (64,)\n",
      "(1, 1, 64, 32) (32,)\n",
      "(5, 5, 32, 1) (1,)\n"
     ]
    }
   ],
   "source": [
    "for i in [1, 2, 3]:\n",
    "    weights, biases = model.layers[i].get_weights()\n",
    "    print(weights.shape, biases.shape)\n"
   ]
  },
  {
   "cell_type": "markdown",
   "metadata": {},
   "source": [
    "* epochs = 400 - metric = mse\n",
    "\n",
    "* ---------train set---------\n",
    "* SRCNN: [18.158525, 39.649426]  BiCubic: [17.471841, 39.040397]  Delta: [-0.734563, 2.876044]\n",
    "* ---------val set---------\n",
    "* SRCNN: [23.483245, 31.937008]  BiCubic: [21.997897, 31.653675]  Delta: [0.283332, 1.485349]\n",
    "* ---------test set---------\n",
    "* SRCNN: [20.679276, 31.298937]  BiCubic: [20.091308, 30.100724]  Delta: [0.175172, 1.661073]\n",
    "* ---------test set 1---------\n",
    "* SRCNN: [25.415441, 25.729739]  BiCubic: [24.912500, 25.701384]  Delta: [0.028355, 0.502941]\n",
    "\n",
    "\n",
    "* epochs = 20 - metrics = compute_psnr_loss\n",
    "* ---------train set---------\n",
    "* SRCNN: [17.985869, 38.975022]  BiCubic: [17.471841, 39.040397]  Delta: [-0.722757, 1.639919]\n",
    "* ---------val set---------\n",
    "* SRCNN: [22.975835, 31.852388]  BiCubic: [21.997897, 31.653675]  Delta: [0.145238, 0.977938]\n",
    "* ---------test set---------\n",
    "* SRCNN: [20.561340, 30.643552]  BiCubic: [20.091308, 30.100724]  Delta: [0.217416, 0.683761]\n",
    "* ---------test set 1---------\n",
    "* SRCNN: [25.285357, 25.794361]  BiCubic: [24.912500, 25.701384]  Delta: [0.092977, 0.372857]"
   ]
  },
  {
   "cell_type": "code",
   "execution_count": null,
   "metadata": {},
   "outputs": [],
   "source": []
  },
  {
   "cell_type": "code",
   "execution_count": null,
   "metadata": {},
   "outputs": [],
   "source": []
  }
 ],
 "metadata": {
  "kernelspec": {
   "display_name": "Python 3",
   "language": "python",
   "name": "python3"
  },
  "language_info": {
   "codemirror_mode": {
    "name": "ipython",
    "version": 3
   },
   "file_extension": ".py",
   "mimetype": "text/x-python",
   "name": "python",
   "nbconvert_exporter": "python",
   "pygments_lexer": "ipython3",
   "version": "3.8.5"
  }
 },
 "nbformat": 4,
 "nbformat_minor": 4
}
